{
  "metadata": {
    "language_info": {
      "codemirror_mode": {
        "name": "javascript"
      },
      "file_extension": ".js",
      "mimetype": "text/javascript",
      "name": "p5js",
      "nbconvert_exporter": "javascript",
      "pygments_lexer": "javascript",
      "version": "es2017"
    },
    "kernelspec": {
      "name": "p5js",
      "display_name": "p5.js",
      "language": "javascript"
    }
  },
  "nbformat_minor": 4,
  "nbformat": 4,
  "cells": [
    {
      "cell_type": "markdown",
      "source": "# Introduction\n\n## programming languages \nwe will use [javascript](https://www.w3schools.com/js/js_history.asp) as a first introduction to programming principles and focus on [p5js](http://p5js.org) at the beginning. javascript is [arguably](https://bootcamp.berkeley.edu/blog/most-in-demand-programming-languages/) the engine that drives the web. \n\nwe will also look at python as well as visual programming environments like [touchdesigner](http://derivative.ca) and [cables.gl](http://cables.gl) which\n\n## editors\n- [processing.org](http://processing.org) standalone app\n- [editor.p5js.org](http://editor.p5js.org) embedded editor\n- [vscode](https://code.visualstudio.com/) offline and [vscode.dev](https/vscode.dev) online\n- [github](http://github.dev) ",
      "metadata": {}
    },
    {
      "cell_type": "code",
      "source": "",
      "metadata": {},
      "execution_count": null,
      "outputs": []
    }
  ]
}